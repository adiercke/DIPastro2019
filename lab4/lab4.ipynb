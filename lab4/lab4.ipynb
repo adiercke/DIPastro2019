{
 "cells": [
  {
   "cell_type": "markdown",
   "metadata": {},
   "source": [
    "# Assignment 4"
   ]
  },
  {
   "cell_type": "markdown",
   "metadata": {},
   "source": [
    "## Exercise 1: Estimation of Noise"
   ]
  },
  {
   "cell_type": "markdown",
   "metadata": {},
   "source": [
    "Select a grayscale image and convert it to a float. "
   ]
  },
  {
   "cell_type": "markdown",
   "metadata": {},
   "source": [
    "(a) Use the $\\texttt{skimage.util.random$\\_$noise}$ package to add the following noise distributions to the image:\n",
    "* Gaussian\n",
    "* Salt $\\&$ Pepper\n",
    "* Poisson\n",
    "\n",
    "and display the image."
   ]
  },
  {
   "cell_type": "code",
   "execution_count": null,
   "metadata": {},
   "outputs": [],
   "source": []
  },
  {
   "cell_type": "markdown",
   "metadata": {},
   "source": [
    "(b) Plot the histograms of the region of interest (ROI) with a uniform backround in the image."
   ]
  },
  {
   "cell_type": "code",
   "execution_count": null,
   "metadata": {},
   "outputs": [],
   "source": []
  },
  {
   "cell_type": "markdown",
   "metadata": {},
   "source": [
    "(c)  Estimate the mean and variance of that noise in the ROI. What is the mathematical description of the mean and variance in this case?"
   ]
  },
  {
   "cell_type": "code",
   "execution_count": null,
   "metadata": {},
   "outputs": [],
   "source": []
  },
  {
   "cell_type": "markdown",
   "metadata": {},
   "source": [
    "(d) Use the $\\texttt{numpy.random}$ package and the functions therein to create the following noise distributions:\n",
    "* uniform\n",
    "* Lognormal\n",
    "* Rayleigh\n",
    "\n",
    "and add the noise to the image. Display the images and create the histograms of a ROI."
   ]
  },
  {
   "cell_type": "code",
   "execution_count": null,
   "metadata": {},
   "outputs": [],
   "source": []
  },
  {
   "cell_type": "markdown",
   "metadata": {},
   "source": [
    "(e) Take the image with $\\texttt{Gaussian}$ noise and apply an appropriate filter to \n",
    "remove that noise from the picture. Explain the idea behind the filter."
   ]
  },
  {
   "cell_type": "code",
   "execution_count": null,
   "metadata": {},
   "outputs": [],
   "source": []
  },
  {
   "cell_type": "markdown",
   "metadata": {},
   "source": [
    "(f) Take the image with $\\texttt{Salt $\\&$ Pepper}$ noise and remove the noise with \n",
    "a suitable kernel. Try different different parameter (mask, mode, ...). Explain the idea behind the filter.  "
   ]
  },
  {
   "cell_type": "code",
   "execution_count": null,
   "metadata": {},
   "outputs": [],
   "source": []
  },
  {
   "cell_type": "markdown",
   "metadata": {},
   "source": [
    "## Exercise 2: Mean filter"
   ]
  },
  {
   "cell_type": "markdown",
   "metadata": {},
   "source": [
    "(a)  Create an image with the following content: A black background \n",
    "with the size of $256 \\times 256$ pixels. In the middle there are nine \n",
    "white stripes of 7 pixels width and 210 pixels height. The distance between the \n",
    "white stripes should be 17 pixels."
   ]
  },
  {
   "cell_type": "code",
   "execution_count": null,
   "metadata": {},
   "outputs": [],
   "source": []
  },
  {
   "cell_type": "markdown",
   "metadata": {},
   "source": [
    "(b) Filter the image using a: \n",
    "* $3\\times3$ arithmetic mean filter,\n",
    "* $7\\times7$ arithmetic mean filter, and\n",
    "* $9\\times9$ arithmetic mean filter."
   ]
  },
  {
   "cell_type": "code",
   "execution_count": null,
   "metadata": {},
   "outputs": [],
   "source": []
  },
  {
   "cell_type": "markdown",
   "metadata": {},
   "source": [
    "(c)  At what filter size are the stripes no longer clearly resolved?"
   ]
  },
  {
   "cell_type": "code",
   "execution_count": null,
   "metadata": {},
   "outputs": [],
   "source": []
  },
  {
   "cell_type": "markdown",
   "metadata": {},
   "source": [
    "(d) Repeat step (b) with a geometric mean filter."
   ]
  },
  {
   "cell_type": "code",
   "execution_count": null,
   "metadata": {},
   "outputs": [],
   "source": []
  },
  {
   "cell_type": "markdown",
   "metadata": {},
   "source": [
    "(e) Repeat step (b) with a harmonic mean filter."
   ]
  },
  {
   "cell_type": "code",
   "execution_count": null,
   "metadata": {},
   "outputs": [],
   "source": []
  },
  {
   "cell_type": "markdown",
   "metadata": {},
   "source": [
    "(f)  Describe what happens while applying the different filters to the image."
   ]
  },
  {
   "cell_type": "code",
   "execution_count": null,
   "metadata": {},
   "outputs": [],
   "source": []
  },
  {
   "cell_type": "markdown",
   "metadata": {},
   "source": [
    "## Exercise 3: Periodic Noise"
   ]
  },
  {
   "cell_type": "markdown",
   "metadata": {},
   "source": [
    "(a) Load in the image $\\texttt{moon$\\_$noise.png}$ and convert the image to a float. Filter the image with a band-reject filter. Display the unfiltered image, the  image in frequency domain, the shape of the band-reject filter, an image of the noise, and the filtered image."
   ]
  },
  {
   "cell_type": "code",
   "execution_count": null,
   "metadata": {},
   "outputs": [],
   "source": []
  },
  {
   "cell_type": "markdown",
   "metadata": {},
   "source": [
    "## Exercise 4: Wiener Filter"
   ]
  },
  {
   "cell_type": "markdown",
   "metadata": {},
   "source": [
    "(a) Define a point spread function (PSF) and convolve the PSF with an grayscale image of your choice to create a blured image. Explain what the PSF is."
   ]
  },
  {
   "cell_type": "code",
   "execution_count": null,
   "metadata": {},
   "outputs": [],
   "source": []
  },
  {
   "cell_type": "markdown",
   "metadata": {},
   "source": [
    "(b) Add an additive noise to the image."
   ]
  },
  {
   "cell_type": "code",
   "execution_count": null,
   "metadata": {},
   "outputs": [],
   "source": []
  },
  {
   "cell_type": "markdown",
   "metadata": {},
   "source": [
    "(c) Apply a $\\texttt{Wiener Filter}$ to restore the image."
   ]
  },
  {
   "cell_type": "code",
   "execution_count": null,
   "metadata": {},
   "outputs": [],
   "source": []
  },
  {
   "cell_type": "markdown",
   "metadata": {},
   "source": [
    "## Exercise 5: Geometrical transformation"
   ]
  },
  {
   "cell_type": "markdown",
   "metadata": {},
   "source": [
    "Align the Targets $\\texttt{target2.jpg}$ to $\\texttt{target1.jpg}$ using geometrical transformations, i.e., rotation, translation, reflection."
   ]
  },
  {
   "cell_type": "code",
   "execution_count": null,
   "metadata": {},
   "outputs": [],
   "source": []
  },
  {
   "cell_type": "markdown",
   "metadata": {},
   "source": [
    "##  Exercise 6: Theoretical Questions"
   ]
  },
  {
   "cell_type": "markdown",
   "metadata": {},
   "source": [
    "(a) How to estimate the type of noise in an image?"
   ]
  },
  {
   "cell_type": "markdown",
   "metadata": {},
   "source": [
    "(b) Which filters are appropriate for:\n",
    "* Gaussian noise,\n",
    "* Periodic noise, and\n",
    "* Salt $\\&$ Pepper noise;\n",
    "\n",
    "and give examples, where such noise can be introduced into images."
   ]
  },
  {
   "cell_type": "markdown",
   "metadata": {},
   "source": [
    "(c)  Describe differences between \"white\", \"pink\", and \"brown\" noise? \n",
    "Are there applications were noise is helpful?"
   ]
  },
  {
   "cell_type": "markdown",
   "metadata": {},
   "source": [
    "(d) An astronomer working with a large-scale telescope observes that the \n",
    "recorded images are a little blurry. The manufacturer tells the astronomer that \n",
    "the unit is operating within specifications. The telescope lenses focus images \n",
    "onto a high-resolution CCD imaging array, and the images are then converted into digital images. Trying to improve the situation by conducting controlled lab \n",
    "experiments with the lenses and imaging sensors is not possible due to the size \n",
    "and weight of the telescope components. The astronomer ask you, the digital \n",
    "image processing expert, for help to formulate a digital image processing \n",
    "solution for sharpening the images a little more. How would you go about solving this problem, given that only images you can obtain are images of stellar \n",
    "bodies? \n",
    "\n",
    "(Hint: Lecture)"
   ]
  }
 ],
 "metadata": {
  "kernelspec": {
   "display_name": "Python 3",
   "language": "python",
   "name": "python3"
  },
  "language_info": {
   "codemirror_mode": {
    "name": "ipython",
    "version": 3
   },
   "file_extension": ".py",
   "mimetype": "text/x-python",
   "name": "python",
   "nbconvert_exporter": "python",
   "pygments_lexer": "ipython3",
   "version": "3.7.3"
  }
 },
 "nbformat": 4,
 "nbformat_minor": 2
}
